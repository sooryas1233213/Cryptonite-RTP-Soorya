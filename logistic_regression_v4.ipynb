{
 "cells": [
  {
   "cell_type": "markdown",
   "metadata": {},
   "source": [
    "# Enhanced Logistic Regression on Titanic Dataset\n",
    "\n",
    "Advanced implementation with:\n",
    "- **L2 Regularization** (Ridge penalty) to prevent overfitting\n",
    "- **Learning Rate Decay** for better convergence\n",
    "- **Hyperparameter Tuning** using validation set\n",
    "- **Comprehensive visualizations** of regularization effects\n"
   ]
  },
  {
   "cell_type": "code",
   "execution_count": 1,
   "metadata": {
    "execution": {
     "iopub.execute_input": "2025-10-03T17:32:22.993051Z",
     "iopub.status.busy": "2025-10-03T17:32:22.992647Z",
     "iopub.status.idle": "2025-10-03T17:32:24.061307Z",
     "shell.execute_reply": "2025-10-03T17:32:24.061032Z"
    }
   },
   "outputs": [],
   "source": [
    "import numpy as np\n",
    "import pandas as pd\n",
    "import matplotlib.pyplot as plt\n",
    "import seaborn as sns\n",
    "from sklearn.metrics import confusion_matrix\n"
   ]
  },
  {
   "cell_type": "code",
   "execution_count": 2,
   "metadata": {
    "execution": {
     "iopub.execute_input": "2025-10-03T17:32:24.063093Z",
     "iopub.status.busy": "2025-10-03T17:32:24.062938Z",
     "iopub.status.idle": "2025-10-03T17:32:24.073123Z",
     "shell.execute_reply": "2025-10-03T17:32:24.072881Z"
    }
   },
   "outputs": [
    {
     "name": "stdout",
     "output_type": "stream",
     "text": [
      "Dataset: 891 passengers, 6 features\n",
      "Survival: 342.0 survived, 549.0 died\n"
     ]
    }
   ],
   "source": [
    "# Load and preprocess Titanic dataset\n",
    "df = pd.read_csv(\"train.csv\")\n",
    "df = df[[\"Survived\", \"Pclass\", \"Sex\", \"Age\", \"SibSp\", \"Parch\", \"Fare\"]]\n",
    "\n",
    "# Handle missing values\n",
    "df[\"Age\"].fillna(df[\"Age\"].mean(), inplace=True)\n",
    "\n",
    "# Encode categorical variables\n",
    "df[\"Sex\"] = (df[\"Sex\"] == \"male\").astype(int)\n",
    "\n",
    "# Create feature matrix and target vector\n",
    "X_full = df[[\"Pclass\", \"Sex\", \"Age\", \"SibSp\", \"Parch\", \"Fare\"]].to_numpy(dtype=float)\n",
    "y_full = df[\"Survived\"].to_numpy(dtype=float)\n",
    "m_full, n = X_full.shape\n",
    "\n",
    "print(f\"Dataset: {m_full} passengers, {n} features\")\n",
    "print(f\"Survival: {np.sum(y_full)} survived, {m_full - np.sum(y_full)} died\")\n"
   ]
  },
  {
   "cell_type": "code",
   "execution_count": 3,
   "metadata": {
    "execution": {
     "iopub.execute_input": "2025-10-03T17:32:24.089049Z",
     "iopub.status.busy": "2025-10-03T17:32:24.088956Z",
     "iopub.status.idle": "2025-10-03T17:32:24.092186Z",
     "shell.execute_reply": "2025-10-03T17:32:24.091973Z"
    }
   },
   "outputs": [
    {
     "name": "stdout",
     "output_type": "stream",
     "text": [
      "Train: 712, Validation: 89, Test: 90\n",
      "Features standardized (mean=0, std=1)\n"
     ]
    }
   ],
   "source": [
    "# Split data: 80% train, 10% validation, 10% test\n",
    "rng = np.random.default_rng(42)\n",
    "perm = rng.permutation(m_full)\n",
    "\n",
    "m_train = int(0.80 * m_full)\n",
    "m_val = int(0.10 * m_full)\n",
    "m_test = m_full - m_train - m_val\n",
    "\n",
    "idx_train = perm[:m_train]\n",
    "idx_val = perm[m_train:m_train+m_val]\n",
    "idx_test = perm[m_train+m_val:]\n",
    "\n",
    "X_train, y_train = X_full[idx_train], y_full[idx_train]\n",
    "X_val, y_val = X_full[idx_val], y_full[idx_val]\n",
    "X_test, y_test = X_full[idx_test], y_full[idx_test]\n",
    "\n",
    "# Standardize features using training set statistics\n",
    "mu = X_train.mean(axis=0)\n",
    "sigma = X_train.std(axis=0, ddof=0)\n",
    "sigma[sigma == 0] = 1.0  # Avoid division by zero\n",
    "\n",
    "X_train = (X_train - mu) / sigma\n",
    "X_val = (X_val - mu) / sigma\n",
    "X_test = (X_test - mu) / sigma\n",
    "\n",
    "print(f\"Train: {m_train}, Validation: {m_val}, Test: {m_test}\")\n",
    "print(\"Features standardized (mean=0, std=1)\")\n"
   ]
  },
  {
   "cell_type": "code",
   "execution_count": null,
   "metadata": {
    "execution": {
     "iopub.execute_input": "2025-10-03T17:32:24.093407Z",
     "iopub.status.busy": "2025-10-03T17:32:24.093341Z",
     "iopub.status.idle": "2025-10-03T17:32:24.096850Z",
     "shell.execute_reply": "2025-10-03T17:32:24.096636Z"
    }
   },
   "outputs": [
    {
     "name": "stdout",
     "output_type": "stream",
     "text": [
      "Functions ready: momentum (1-beta) and 1/(1+k t) learning rate decay\n"
     ]
    }
   ],
   "source": [
    "# Enhanced logistic regression functions (V4: Momentum + time-decay LR)\n",
    "\n",
    "def sigmoid(z):\n",
    "    \"\"\"Sigmoid activation function\"\"\"\n",
    "    return 1 / (1 + np.exp(-np.clip(z, -500, 500)))\n",
    "\n",
    "def f(X, w, b):\n",
    "    \"\"\"Logistic regression prediction\"\"\"\n",
    "    return sigmoid(X @ w + b)\n",
    "\n",
    "def loss(X, y, w, b, lam):\n",
    "    \"\"\"Cross-entropy loss with optional L2 regularization\"\"\"\n",
    "    m = len(y)\n",
    "    p = f(X, w, b)\n",
    "    eps = 1e-12\n",
    "    p = np.clip(p, eps, 1 - eps)\n",
    "    \n",
    "    ce = -np.mean(y * np.log(p) + (1 - y) * np.log(1 - p))\n",
    "    l2 = (lam / (2 * m)) * np.sum(w ** 2)\n",
    "    return ce + l2\n",
    "\n",
    "def step_mom(X, y, w, b, v_w, v_b, a, lam, bet=0.9):\n",
    "    \"\"\"One step of momentum gradient descent.\n",
    "    v <- bet*v + (1-bet)*grad   ;   theta <- theta - a * v\n",
    "    \"\"\"\n",
    "    m = len(y)\n",
    "    p = f(X, w, b)\n",
    "    e = p - y\n",
    "    g_w = (X.T @ e) / m + (lam / m) * w\n",
    "    g_b = e.mean()\n",
    "    \n",
    "    v_w = bet * v_w + (1 - bet) * g_w\n",
    "    v_b = bet * v_b + (1 - bet) * g_b\n",
    "    \n",
    "    w = w - a * v_w\n",
    "    b = b - a * v_b\n",
    "    return w, b, v_w, v_b\n",
    "\n",
    "def lr_decay(a0, t, k=1e-3):\n",
    "    \"\"\"Reciprocal time decay: a_t = a0 / (1 + k*t)\"\"\"\n",
    "    return a0 / (1.0 + k * t)\n",
    "\n",
    "def acc(y, p, thr=0.5):\n",
    "    yhat = (p >= thr).astype(float)\n",
    "    return (yhat == y).mean()\n"
   ]
  },
  {
   "cell_type": "code",
   "execution_count": null,
   "metadata": {
    "execution": {
     "iopub.execute_input": "2025-10-03T17:32:24.098057Z",
     "iopub.status.busy": "2025-10-03T17:32:24.097985Z",
     "iopub.status.idle": "2025-10-03T17:32:27.141118Z",
     "shell.execute_reply": "2025-10-03T17:32:27.140883Z"
    }
   },
   "outputs": [
    {
     "name": "stdout",
     "output_type": "stream",
     "text": [
      "Starting hyperparameter tuning (V4)...\n",
      "============================================================\n",
      "λ=0.000, α₀=0.05, β=0.85 → Val Acc: 69.7% (2176 epochs)\n",
      "λ=0.000, α₀=0.05, β=0.90 → Val Acc: 69.7% (2163 epochs)\n",
      "λ=0.000, α₀=0.05, β=0.95 → Val Acc: 69.7% (2121 epochs)\n",
      "λ=0.000, α₀=0.10, β=0.85 → Val Acc: 69.7% (983 epochs)\n",
      "λ=0.000, α₀=0.10, β=0.90 → Val Acc: 69.7% (968 epochs)\n",
      "λ=0.000, α₀=0.10, β=0.95 → Val Acc: 69.7% (921 epochs)\n",
      "λ=0.000, α₀=0.20, β=0.85 → Val Acc: 69.7% (463 epochs)\n",
      "λ=0.000, α₀=0.20, β=0.90 → Val Acc: 69.7% (446 epochs)\n",
      "λ=0.000, α₀=0.20, β=0.95 → Val Acc: 69.7% (383 epochs)\n",
      "λ=0.000, α₀=0.30, β=0.85 → Val Acc: 70.8% (299 epochs)\n",
      "λ=0.000, α₀=0.30, β=0.90 → Val Acc: 70.8% (279 epochs)\n",
      "λ=0.000, α₀=0.30, β=0.95 → Val Acc: 70.8% (231 epochs)\n",
      "λ=0.005, α₀=0.05, β=0.85 → Val Acc: 69.7% (2176 epochs)\n",
      "λ=0.005, α₀=0.05, β=0.90 → Val Acc: 69.7% (2162 epochs)\n",
      "λ=0.005, α₀=0.05, β=0.95 → Val Acc: 69.7% (2120 epochs)\n",
      "λ=0.005, α₀=0.10, β=0.85 → Val Acc: 69.7% (982 epochs)\n",
      "λ=0.005, α₀=0.10, β=0.90 → Val Acc: 69.7% (968 epochs)\n",
      "λ=0.005, α₀=0.10, β=0.95 → Val Acc: 69.7% (920 epochs)\n",
      "λ=0.005, α₀=0.20, β=0.85 → Val Acc: 69.7% (462 epochs)\n",
      "λ=0.005, α₀=0.20, β=0.90 → Val Acc: 69.7% (446 epochs)\n",
      "λ=0.005, α₀=0.20, β=0.95 → Val Acc: 69.7% (383 epochs)\n",
      "λ=0.005, α₀=0.30, β=0.85 → Val Acc: 70.8% (299 epochs)\n",
      "λ=0.005, α₀=0.30, β=0.90 → Val Acc: 70.8% (279 epochs)\n",
      "λ=0.005, α₀=0.30, β=0.95 → Val Acc: 70.8% (231 epochs)\n",
      "λ=0.010, α₀=0.05, β=0.85 → Val Acc: 69.7% (2175 epochs)\n",
      "λ=0.010, α₀=0.05, β=0.90 → Val Acc: 69.7% (2162 epochs)\n",
      "λ=0.010, α₀=0.05, β=0.95 → Val Acc: 69.7% (2119 epochs)\n",
      "λ=0.010, α₀=0.10, β=0.85 → Val Acc: 69.7% (982 epochs)\n",
      "λ=0.010, α₀=0.10, β=0.90 → Val Acc: 69.7% (968 epochs)\n",
      "λ=0.010, α₀=0.10, β=0.95 → Val Acc: 69.7% (920 epochs)\n",
      "λ=0.010, α₀=0.20, β=0.85 → Val Acc: 69.7% (462 epochs)\n",
      "λ=0.010, α₀=0.20, β=0.90 → Val Acc: 69.7% (446 epochs)\n",
      "λ=0.010, α₀=0.20, β=0.95 → Val Acc: 69.7% (383 epochs)\n",
      "λ=0.010, α₀=0.30, β=0.85 → Val Acc: 70.8% (298 epochs)\n",
      "λ=0.010, α₀=0.30, β=0.90 → Val Acc: 70.8% (279 epochs)\n",
      "λ=0.010, α₀=0.30, β=0.95 → Val Acc: 70.8% (231 epochs)\n",
      "λ=0.050, α₀=0.05, β=0.85 → Val Acc: 69.7% (2170 epochs)\n",
      "λ=0.050, α₀=0.05, β=0.90 → Val Acc: 69.7% (2156 epochs)\n",
      "λ=0.050, α₀=0.05, β=0.95 → Val Acc: 69.7% (2114 epochs)\n",
      "λ=0.050, α₀=0.10, β=0.85 → Val Acc: 69.7% (980 epochs)\n",
      "λ=0.050, α₀=0.10, β=0.90 → Val Acc: 69.7% (966 epochs)\n",
      "λ=0.050, α₀=0.10, β=0.95 → Val Acc: 69.7% (918 epochs)\n",
      "λ=0.050, α₀=0.20, β=0.85 → Val Acc: 69.7% (461 epochs)\n",
      "λ=0.050, α₀=0.20, β=0.90 → Val Acc: 69.7% (445 epochs)\n",
      "λ=0.050, α₀=0.20, β=0.95 → Val Acc: 69.7% (382 epochs)\n",
      "λ=0.050, α₀=0.30, β=0.85 → Val Acc: 69.7% (298 epochs)\n",
      "λ=0.050, α₀=0.30, β=0.90 → Val Acc: 69.7% (278 epochs)\n",
      "λ=0.050, α₀=0.30, β=0.95 → Val Acc: 70.8% (231 epochs)\n",
      "λ=0.100, α₀=0.05, β=0.85 → Val Acc: 69.7% (2164 epochs)\n",
      "λ=0.100, α₀=0.05, β=0.90 → Val Acc: 69.7% (2150 epochs)\n",
      "λ=0.100, α₀=0.05, β=0.95 → Val Acc: 69.7% (2108 epochs)\n",
      "λ=0.100, α₀=0.10, β=0.85 → Val Acc: 69.7% (977 epochs)\n",
      "λ=0.100, α₀=0.10, β=0.90 → Val Acc: 69.7% (963 epochs)\n",
      "λ=0.100, α₀=0.10, β=0.95 → Val Acc: 69.7% (916 epochs)\n",
      "λ=0.100, α₀=0.20, β=0.85 → Val Acc: 69.7% (460 epochs)\n",
      "λ=0.100, α₀=0.20, β=0.90 → Val Acc: 69.7% (444 epochs)\n",
      "λ=0.100, α₀=0.20, β=0.95 → Val Acc: 69.7% (381 epochs)\n",
      "λ=0.100, α₀=0.30, β=0.85 → Val Acc: 69.7% (297 epochs)\n",
      "λ=0.100, α₀=0.30, β=0.90 → Val Acc: 69.7% (278 epochs)\n",
      "λ=0.100, α₀=0.30, β=0.95 → Val Acc: 70.8% (230 epochs)\n",
      "============================================================\n",
      "✨ Best hyperparameters: λ=0.0, α₀=0.3, β=0.85\n",
      "✨ Best validation accuracy: 70.8%\n"
     ]
    }
   ],
   "source": [
    "# Hyperparameter tuning: Grid over (λ, a0, β) with time-decay LR and momentum\n",
    "\n",
    "lam_vals = [0.0, 0.005, 0.01, 0.05, 0.1]\n",
    "a0_vals = [0.05, 0.1, 0.2, 0.3]\n",
    "bet_vals = [0.85, 0.9, 0.95]\n",
    "\n",
    "best_va = 0\n",
    "best = {}\n",
    "\n",
    "for lam in lam_vals:\n",
    "    for a0 in a0_vals:\n",
    "        for bet in bet_vals:\n",
    "            # Initialize weights and momentum\n",
    "            w = np.zeros(n)\n",
    "            b = 0.0\n",
    "            v_w = np.zeros(n)\n",
    "            v_b = 0.0\n",
    "            max_epochs = 3000\n",
    "            tol = 1e-7\n",
    "            prev_L = None\n",
    "            \n",
    "            # Train\n",
    "            for epoch in range(1, max_epochs+1):\n",
    "                a = lr_decay(a0, epoch, k=1e-3)\n",
    "                w, b, v_w, v_b = step_mom(X_train, y_train, w, b, v_w, v_b, a, lam, bet)\n",
    "                L = loss(X_train, y_train, w, b, lam)\n",
    "                \n",
    "                if prev_L is not None and abs(prev_L - L) < tol:\n",
    "                    break\n",
    "                prev_L = L\n",
    "            \n",
    "            # Evaluate on validation set\n",
    "            p_va = f(X_val, w, b)\n",
    "            va = acc(y_val, p_va)\n",
    "            \n",
    "            print(f\"λ={lam:5.3f}, α₀={a0:.2f}, β={bet:.2f} → Val Acc: {va:.1%} ({epoch} epochs)\")\n",
    "            \n",
    "            if va > best_va:\n",
    "                best_va = va\n",
    "                best = {'lam': lam, 'a0': a0, 'bet': bet, 'epochs': epoch}\n",
    "\n",
    "print(f\"Best hyperparameters: λ={best['lam']}, α₀={best['a0']}, β={best['bet']}\")\n",
    "print(f\"Best validation accuracy: {best_va:.1%}\")\n"
   ]
  },
  {
   "cell_type": "code",
   "execution_count": null,
   "metadata": {
    "execution": {
     "iopub.execute_input": "2025-10-03T17:32:27.142441Z",
     "iopub.status.busy": "2025-10-03T17:32:27.142370Z",
     "iopub.status.idle": "2025-10-03T17:32:27.168249Z",
     "shell.execute_reply": "2025-10-03T17:32:27.168024Z"
    }
   },
   "outputs": [
    {
     "name": "stdout",
     "output_type": "stream",
     "text": [
      "✅ Converged at epoch 299\n",
      "\n",
      "🎯 Final training loss: 0.430649\n",
      "🎯 Final validation loss: 0.532627\n",
      "⚖️ Learned weights: [-0.97107377 -1.36291877 -0.63897562 -0.48767929 -0.07862208  0.12256515]\n",
      "📍 Learned bias: -0.658634\n"
     ]
    }
   ],
   "source": [
    "lam = best['lam']\n",
    "a0 = best['a0']\n",
    "bet = best['bet']\n",
    "\n",
    "w = np.zeros(n)\n",
    "b = 0.0\n",
    "v_w = np.zeros(n)\n",
    "v_b = 0.0\n",
    "max_epochs = 5000\n",
    "tol = 1e-7\n",
    "\n",
    "# Track training progress\n",
    "tr_loss = []\n",
    "va_loss = []\n",
    "lr_hist = []\n",
    "ep_hist = []\n",
    "prev_L = None\n",
    "\n",
    "for epoch in range(1, max_epochs+1):\n",
    "    # Apply 1/(1+k t) learning rate decay\n",
    "    a = lr_decay(a0, epoch, k=1e-3)\n",
    "    \n",
    "    # Update weights with momentum: v <- bet*v + (1-bet)*grad; theta <- theta - a*v\n",
    "    w, b, v_w, v_b = step_mom(X_train, y_train, w, b, v_w, v_b, a, lam, bet)\n",
    "    \n",
    "    # Calculate losses\n",
    "    L_tr = loss(X_train, y_train, w, b, lam)\n",
    "    L_va = loss(X_val, y_val, w, b, lam)\n",
    "    \n",
    "    # Store history\n",
    "    tr_loss.append(L_tr)\n",
    "    va_loss.append(L_va)\n",
    "    lr_hist.append(a)\n",
    "    ep_hist.append(epoch)\n",
    "    \n",
    "    # Check convergence\n",
    "    if prev_L is not None and abs(prev_L - L_tr) < tol:\n",
    "        print(f\"Converged at epoch {epoch}\")\n",
    "        break\n",
    "    prev_L = L_tr\n",
    "    \n",
    "    if epoch % 500 == 0:\n",
    "        print(f\"   Epoch {epoch}: Train Loss={L_tr:.6f}, Val Loss={L_va:.6f}, α={a:.6f}\")\n",
    "\n",
    "print(f\"\\nFinal training loss: {L_tr:.6f}\")\n",
    "print(f\"Final validation loss: {L_va:.6f}\")\n",
    "print(f\"Learned weights: {w}\")\n",
    "print(f\"Learned bias: {b:.6f}\")\n"
   ]
  },
  {
   "cell_type": "code",
   "execution_count": null,
   "metadata": {
    "execution": {
     "iopub.execute_input": "2025-10-03T17:32:27.169393Z",
     "iopub.status.busy": "2025-10-03T17:32:27.169329Z",
     "iopub.status.idle": "2025-10-03T17:32:27.171554Z",
     "shell.execute_reply": "2025-10-03T17:32:27.171329Z"
    }
   },
   "outputs": [
    {
     "name": "stdout",
     "output_type": "stream",
     "text": [
      "FINAL MODEL PERFORMANCE:\n",
      "   Training Accuracy:   80.8%\n",
      "   Validation Accuracy: 70.8%\n",
      "   Test Accuracy:       78.9%\n",
      "\n",
      "Hyperparameters used:\n",
      "   λ (L2 penalty): 0.0\n",
      "   α₀ (initial LR): 0.3\n",
      "   Final α: 0.230947\n",
      "   Total epochs: 299\n"
     ]
    }
   ],
   "source": [
    "# Evaluate final model performance\n",
    "p_tr = f(X_train, w, b)\n",
    "p_va = f(X_val, w, b)\n",
    "p_te = f(X_test, w, b)\n",
    "\n",
    "acc_tr = acc(y_train, p_tr)\n",
    "acc_va = acc(y_val, p_va)\n",
    "acc_te = acc(y_test, p_te)\n",
    "\n",
    "print(\"FINAL MODEL PERFORMANCE:\")\n",
    "print(f\"   Training Accuracy:   {acc_tr:.1%}\")\n",
    "print(f\"   Validation Accuracy: {acc_va:.1%}\")\n",
    "print(f\"   Test Accuracy:       {acc_te:.1%}\")\n",
    "\n",
    "print(f\"\\nHyperparameters used:\")\n",
    "print(f\"   λ (L2 penalty): {lam}\")\n",
    "print(f\"   α₀ (initial LR): {a0}\")\n",
    "print(f\"   Final α: {lr_hist[-1]:.6f}\")\n",
    "print(f\"   Total epochs: {len(ep_hist)}\")\n"
   ]
  },
  {
   "cell_type": "code",
   "execution_count": null,
   "metadata": {
    "execution": {
     "iopub.execute_input": "2025-10-03T17:32:27.172663Z",
     "iopub.status.busy": "2025-10-03T17:32:27.172599Z",
     "iopub.status.idle": "2025-10-03T17:32:27.370665Z",
     "shell.execute_reply": "2025-10-03T17:32:27.370414Z"
    }
   },
   "outputs": [
    {
     "data": {
      "image/png": "[encoded data removed]",
      "text/plain": [
       "<Figure size 1500x500 with 4 Axes>"
      ]
     },
     "metadata": {},
     "output_type": "display_data"
    },
    {
     "name": "stdout",
     "output_type": "stream",
     "text": [
      "Visualizations complete.\n",
      "Test accuracy: 78.9% in 299 epochs\n"
     ]
    }
   ],
   "source": [
    "plt.figure(figsize=(15, 5))\n",
    "\n",
    "# 1. Sigmoid activation function\n",
    "plt.subplot(1, 3, 1)\n",
    "z = np.linspace(-6, 6, 100)\n",
    "sig_vals = sigmoid(z)\n",
    "plt.plot(z, sig_vals, 'b-', linewidth=3, label='Sigmoid Function')\n",
    "plt.axhline(y=0.5, color='r', linestyle='--', alpha=0.7, label='Decision Threshold')\n",
    "plt.axvline(x=0, color='gray', linestyle='--', alpha=0.5)\n",
    "plt.title('Sigmoid Activation Function', fontsize=14, fontweight='bold')\n",
    "plt.xlabel('z = w·x + b')\n",
    "plt.ylabel('σ(z) = 1/(1+e^(-z))')\n",
    "plt.grid(True, alpha=0.3)\n",
    "plt.legend()\n",
    "\n",
    "# 2. Training convergence\n",
    "plt.subplot(1, 3, 2)\n",
    "plt.plot(ep_hist, tr_loss, 'g-', linewidth=2)\n",
    "plt.title('Training Loss Convergence', fontsize=14, fontweight='bold')\n",
    "plt.xlabel('Epoch')\n",
    "plt.ylabel('Cross-Entropy Loss')\n",
    "plt.grid(True, alpha=0.3)\n",
    "\n",
    "# 3. Confusion matrix\n",
    "plt.subplot(1, 3, 3)\n",
    "yhat_tr = (p_tr >= 0.5).astype(int)\n",
    "cm = confusion_matrix(y_train, yhat_tr)\n",
    "sns.heatmap(cm, annot=True, fmt='d', cmap='Blues', cbar=True,\n",
    "           xticklabels=['Died', 'Survived'],\n",
    "           yticklabels=['Died', 'Survived'])\n",
    "plt.title('Confusion Matrix', fontsize=14, fontweight='bold')\n",
    "plt.ylabel('Actual')\n",
    "plt.xlabel('Predicted')\n",
    "\n",
    "plt.tight_layout()\n",
    "plt.show()\n",
    "\n",
    "print(\"Visualizations complete.\")\n",
    "print(f\"Test accuracy: {acc_te:.1%} in {len(ep_hist)} epochs\")\n"
   ]
  },
  {
   "cell_type": "markdown",
   "metadata": {},
   "source": [
    "\n"
   ]
  },
  {
   "cell_type": "code",
   "execution_count": null,
   "metadata": {},
   "outputs": [],
   "source": [
    "\n"
   ]
  },
  {
   "cell_type": "code",
   "execution_count": null,
   "metadata": {},
   "outputs": [],
   "source": [
    "\n"
   ]
  },
  {
   "cell_type": "code",
   "execution_count": null,
   "metadata": {},
   "outputs": [],
   "source": [
    "\n"
   ]
  },
  {
   "cell_type": "code",
   "execution_count": null,
   "metadata": {},
   "outputs": [],
   "source": [
    "\n"
   ]
  },
  {
   "cell_type": "code",
   "execution_count": null,
   "metadata": {},
   "outputs": [],
   "source": [
    "\n"
   ]
  },
  {
   "cell_type": "code",
   "execution_count": null,
   "metadata": {},
   "outputs": [],
   "source": [
    "\n"
   ]
  },
  {
   "cell_type": "code",
   "execution_count": null,
   "metadata": {},
   "outputs": [],
   "source": [
    "\n"
   ]
  },
  {
   "cell_type": "code",
   "execution_count": null,
   "metadata": {},
   "outputs": [],
   "source": [
    "\n"
   ]
  },
  {
   "cell_type": "code",
   "execution_count": null,
   "metadata": {},
   "outputs": [],
   "source": [
    "\n"
   ]
  },
  {
   "cell_type": "code",
   "execution_count": null,
   "metadata": {},
   "outputs": [],
   "source": [
    "\n"
   ]
  },
  {
   "cell_type": "code",
   "execution_count": null,
   "metadata": {},
   "outputs": [],
   "source": [
    "\n"
   ]
  }
 ],
 "metadata": {
  "language_info": {
   "codemirror_mode": {
    "name": "ipython",
    "version": 3
   },
   "file_extension": ".py",
   "mimetype": "text/x-python",
   "name": "python",
   "nbconvert_exporter": "python",
   "pygments_lexer": "ipython3",
   "version": "3.11.4"
  }
 },
 "nbformat": 4,
 "nbformat_minor": 2
}
