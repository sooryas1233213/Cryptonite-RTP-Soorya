{
 "cells": [
  {
   "cell_type": "markdown",
   "id": "b4b16cf8",
   "metadata": {},
   "source": [
    "# Load and display housing.csv\n",
    "\n",
    "Very basic: this notebook only loads `housing.csv` from the repository root and displays the dataframe's shape and first few rows."
   ]
  },
  {
   "cell_type": "code",
   "execution_count": null,
   "id": "9dd8bb19",
   "metadata": {},
   "outputs": [
    {
     "name": "stdout",
     "output_type": "stream",
     "text": [
      "epochs: 1942\n",
      "final_cost J(w,b): 10.947417\n",
      "MSE: 21.894834\n",
      "R²: 0.740643\n",
      "bias b: 22.532806\n",
      "weights w: [-0.927823  1.081001  0.139138  0.681992 -2.056412  2.67455   0.019195\n",
      " -3.104173  2.657771 -2.071726 -2.060442  0.849237 -3.743456]\n"
     ]
    },
    {
     "name": "stderr",
     "output_type": "stream",
     "text": [
      "/var/folders/xz/j44c8bq91pz_q42mkrzk9z1m0000gn/T/ipykernel_83379/402049742.py:5: FutureWarning: The 'delim_whitespace' keyword in pd.read_csv is deprecated and will be removed in a future version. Use ``sep='\\s+'`` instead\n",
      "  df = pd.read_csv(\"housing.csv\", delim_whitespace=True, header=None)\n"
     ]
    }
   ],
   "source": [
    "import numpy as np\n",
    "import pandas as pd\n",
    "\n",
    "df = pd.read_csv(\"housing.csv\", delim_whitespace=True, header=None)\n",
    "X = df.iloc[:, :-1].to_numpy(dtype=float)\n",
    "y = df.iloc[:, -1].to_numpy(dtype=float)\n",
    "#normalization\n",
    "m, n = X.shape  \n",
    "mu = X.mean(axis=0)\n",
    "sigma = X.std(axis=0, ddof=0)\n",
    "#checking if std deviation is equal to 0, if it is make it 1\n",
    "sigma[sigma == 0] = 1.0  \n",
    "X = (X - mu) / sigma"
   ]
  },
  {
   "cell_type": "code",
   "execution_count": null,
   "id": "8563002a",
   "metadata": {},
   "outputs": [],
   "source": [
    "# Partition into train/val/test (80/10/10)\n",
    "rng = np.random.default_rng(42)\n",
    "perm = rng.permutation(m)\n",
    "\n",
    "m_train = int(0.80 * m)\n",
    "m_val = int(0.10 * m)\n",
    "m_test = m - m_train - m_val\n",
    "\n",
    "idx_train = perm[:m_train]\n",
    "idx_val = perm[m_train:m_train+m_val]\n",
    "idx_test = perm[m_train+m_val:]\n",
    "\n",
    "X_train, y_train = X[idx_train], y[idx_train]\n",
    "X_val, y_val = X[idx_val], y[idx_val]\n",
    "X_test, y_test = X[idx_test], y[idx_test]\n",
    "\n",
    "print(f\"Train: {m_train}, Val: {m_val}, Test: {m_test}\")\n"
   ]
  },
  {
   "cell_type": "code",
   "execution_count": null,
   "id": "225fe865",
   "metadata": {},
   "outputs": [],
   "source": [
    "# Original training and evaluation code (unchanged)\n",
    "#creating a weights vector and b\n",
    "w = np.zeros(n, dtype=float)\n",
    "b = 0.0\n",
    "\n",
    "#linear regression function f(x) = w.x+b\n",
    "def f(X, w, b):\n",
    "    return X @ w + b\n",
    "\n",
    "#gradient descent\n",
    "def step(X, y, w, b, alpha):\n",
    "    m = len(y)\n",
    "    e = f(X, w, b) - y\n",
    "    grad_w = (X.T @ e) / m\n",
    "    grad_b = e.mean()\n",
    "    return w - alpha * grad_w, b - alpha * grad_b\n",
    "\n",
    "#cost function\n",
    "def cost(X, y, w, b):\n",
    "    e = f(X, w, b) - y\n",
    "    return 0.5 * np.mean(e ** 2)\n",
    "\n",
    "alpha = 0.05      \n",
    "max_epochs = 5000 \n",
    "tol = 1e-8        \n",
    "prev_J = None\n",
    "\n",
    "for epoch in range(1, max_epochs + 1):\n",
    "    w, b = step(X, y, w, b, alpha)\n",
    "    J = cost(X, y, w, b)\n",
    "    if prev_J is not None and abs(prev_J - J) < tol:\n",
    "        break  \n",
    "    prev_J = J\n",
    "\n",
    "\n",
    "y_pred = f(X, w, b)\n",
    "\n",
    "mse = np.mean((y - y_pred) ** 2)\n",
    "\n",
    "\n",
    "print(f\"final_cost J(w,b): {J:.6f}\")\n",
    "print(f\"MSE: {mse:.6f}\")\n",
    "print(\"bias b:\", round(b, 6))\n",
    "print(\"weights w:\", np.round(w, 6))\n"
   ]
  }
 ],
 "metadata": {
  "kernelspec": {
   "display_name": ".venv (3.11.4)",
   "language": "python",
   "name": "python3"
  },
  "language_info": {
   "codemirror_mode": {
    "name": "ipython",
    "version": 3
   },
   "file_extension": ".py",
   "mimetype": "text/x-python",
   "name": "python",
   "nbconvert_exporter": "python",
   "pygments_lexer": "ipython3",
   "version": "3.11.4"
  }
 },
 "nbformat": 4,
 "nbformat_minor": 5
}
