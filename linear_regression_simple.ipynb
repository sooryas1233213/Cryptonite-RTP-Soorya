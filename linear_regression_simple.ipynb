{
 "cells": [
  {
   "cell_type": "markdown",
   "id": "b4b16cf8",
   "metadata": {},
   "source": [
    "# Load and display housing.csv\n",
    "\n",
    "Very basic: this notebook only loads `housing.csv` from the repository root and displays the dataframe's shape and first few rows."
   ]
  },
  {
   "cell_type": "code",
   "execution_count": null,
   "id": "9dd8bb19",
   "metadata": {},
   "outputs": [
    {
     "name": "stdout",
     "output_type": "stream",
     "text": [
      "<class 'pandas.core.frame.DataFrame'>\n",
      "RangeIndex: 505 entries, 0 to 504\n",
      "Data columns (total 14 columns):\n",
      " #   Column   Non-Null Count  Dtype  \n",
      "---  ------   --------------  -----  \n",
      " 0   0.00632  505 non-null    float64\n",
      " 1   18.00    505 non-null    float64\n",
      " 2   2.310    505 non-null    float64\n",
      " 3   0        505 non-null    int64  \n",
      " 4   0.5380   505 non-null    float64\n",
      " 5   6.5750   505 non-null    float64\n",
      " 6   65.20    505 non-null    float64\n",
      " 7   4.0900   505 non-null    float64\n",
      " 8   1        505 non-null    int64  \n",
      " 9   296.0    505 non-null    float64\n",
      " 10  15.30    505 non-null    float64\n",
      " 11  396.90   505 non-null    float64\n",
      " 12  4.98     505 non-null    float64\n",
      " 13  24.00    505 non-null    float64\n",
      "dtypes: float64(12), int64(2)\n",
      "memory usage: 55.4 KB\n",
      "None\n",
      "   0.00632  18.00  2.310  0  0.5380  6.5750  65.20  4.0900  1  296.0  15.30  \\\n",
      "0  0.02731    0.0   7.07  0   0.469   6.421   78.9  4.9671  2  242.0   17.8   \n",
      "1  0.02729    0.0   7.07  0   0.469   7.185   61.1  4.9671  2  242.0   17.8   \n",
      "2  0.03237    0.0   2.18  0   0.458   6.998   45.8  6.0622  3  222.0   18.7   \n",
      "3  0.06905    0.0   2.18  0   0.458   7.147   54.2  6.0622  3  222.0   18.7   \n",
      "4  0.02985    0.0   2.18  0   0.458   6.430   58.7  6.0622  3  222.0   18.7   \n",
      "\n",
      "   396.90  4.98  24.00  \n",
      "0  396.90  9.14   21.6  \n",
      "1  392.83  4.03   34.7  \n",
      "2  394.63  2.94   33.4  \n",
      "3  396.90  5.33   36.2  \n",
      "4  394.12  5.21   28.7  \n"
     ]
    },
    {
     "name": "stderr",
     "output_type": "stream",
     "text": [
      "/var/folders/xz/j44c8bq91pz_q42mkrzk9z1m0000gn/T/ipykernel_76220/2179594132.py:3: FutureWarning: The 'delim_whitespace' keyword in pd.read_csv is deprecated and will be removed in a future version. Use ``sep='\\s+'`` instead\n",
      "  df = pd.read_csv(\"housing.csv\", delim_whitespace=True)\n"
     ]
    }
   ],
   "source": [
    "import pandas as pd\n",
    "\n",
    "df = pd.read_csv(\"housing.csv\", delim_whitespace=True)\n",
    "\n",
    "df.columns = [\n",
    "    \"CRIM\",\n",
    "    \"ZN\",\n",
    "    \"INDUS\",\n",
    "    \"CHAS\",\n",
    "    \"NOX\",\n",
    "    \"RM\",\n",
    "    \"AGE\",\n",
    "    \"DIS\",\n",
    "    \"RAD\",\n",
    "    \"TAX\",\n",
    "    \"PTRATIO\",\n",
    "    \"B\",\n",
    "    \"LSTAT\",\n",
    "    \"MEDV\"\n",
    "]\n",
    "\n",
    "print(\"\\nDataset info:\")\n",
    "print(df.info())\n",
    "\n",
    "print(\"\\nFirst 5 rows:\")\n",
    "print(df.head())\n",
    "\n",
    "print(\"\\nSummary statistics:\")\n",
    "print(df.describe())"
   ]
  }
 ],
 "metadata": {
  "kernelspec": {
   "display_name": ".venv (3.11.4)",
   "language": "python",
   "name": "python3"
  },
  "language_info": {
   "codemirror_mode": {
    "name": "ipython",
    "version": 3
   },
   "file_extension": ".py",
   "mimetype": "text/x-python",
   "name": "python",
   "nbconvert_exporter": "python",
   "pygments_lexer": "ipython3",
   "version": "3.11.4"
  }
 },
 "nbformat": 4,
 "nbformat_minor": 5
}
