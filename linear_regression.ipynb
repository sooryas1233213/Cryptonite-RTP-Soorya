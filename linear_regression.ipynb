{
 "cells": [
  {
   "cell_type": "markdown",
   "id": "eaee651a",
   "metadata": {},
   "source": [
    "# Linear Regression demo (housing.csv)\n",
    "\n",
    "This notebook loads `housing.csv` from the repository root, trains a simple scikit-learn LinearRegression model, evaluates it, plots actual vs predicted values, and saves the trained model to `model.joblib`.\n",
    "\n",
    "Run this notebook inside the project's virtual environment (`.venv`) for reproducible results. See `requirements.txt` for dependencies."
   ]
  },
  {
   "cell_type": "code",
   "execution_count": null,
   "id": "64e48332",
   "metadata": {},
   "outputs": [],
   "source": [
    "%matplotlib inline\n",
    "import os\n",
    "import pandas as pd\n",
    "import numpy as np\n",
    "import matplotlib.pyplot as plt\n",
    "import seaborn as sns\n",
    "from sklearn.linear_model import LinearRegression\n",
    "from sklearn.model_selection import train_test_split\n",
    "from sklearn import metrics\n",
    "import joblib\n",
    "\n",
    "sns.set(style=\"whitegrid\")"
   ]
  },
  {
   "cell_type": "code",
   "execution_count": null,
   "id": "09b42a35",
   "metadata": {},
   "outputs": [],
   "source": [
    "# Load the data\n",
    "csv_path = os.path.join(os.getcwd(), \"housing.csv\")\n",
    "print('Looking for:', csv_path)\n",
    "df = pd.read_csv(csv_path)\n",
    "print('Loaded dataframe shape:', df.shape)\n",
    "df.head()"
   ]
  },
  {
   "cell_type": "code",
   "execution_count": null,
   "id": "43ed7a0d",
   "metadata": {},
   "outputs": [],
   "source": [
    "# Choose a sensible feature and target if available\n",
    "if 'median_income' in df.columns and 'median_house_value' in df.columns:\n",
    "    X = df[['median_income']].copy()\n",
    "    y = df['median_house_value'].copy()\n",
    "    print('Using median_income -> median_house_value')\n",
    "else:\n",
    "    # fall back to numeric columns: first numeric as feature, last numeric as target\n",
    "    numeric = df.select_dtypes(include=[np.number])\n",
    "    if numeric.shape[1] < 2:\n",
    "        raise ValueError('Not enough numeric columns to run a regression')\n",
    "    X = numeric.iloc[:, [0]].copy()\n",
    "    y = numeric.iloc[:, -1].copy()\n",
    "    print(f'Using fallback columns: {X.columns.tolist()} -> {y.name}')\n",
    "\n",
    "# Simple preprocessing: drop rows with missing values in chosen columns\n",
    "data = pd.concat([X, y], axis=1).dropna()\n",
    "X = data.iloc[:, :-1]\n",
    "y = data.iloc[:, -1]\n",
    "print('After dropna, samples =', len(y))"
   ]
  },
  {
   "cell_type": "code",
   "execution_count": null,
   "id": "ced74fa4",
   "metadata": {},
   "outputs": [],
   "source": [
    "# Train/test split\n",
    "X_train, X_test, y_train, y_test = train_test_split(X, y, test_size=0.2, random_state=42)\n",
    "print('Train samples:', len(y_train), 'Test samples:', len(y_test))\n",
    "\n",
    "# Fit linear regression\n",
    "model = LinearRegression()\n",
    "model.fit(X_train, y_train)\n",
    "print('Coefficient(s):', model.coef_)\n",
    "print('Intercept:', model.intercept_)"
   ]
  },
  {
   "cell_type": "code",
   "execution_count": null,
   "id": "7de6eecc",
   "metadata": {},
   "outputs": [],
   "source": [
    "# Predictions and evaluation\n",
    "y_pred = model.predict(X_test)\n",
    "r2 = metrics.r2_score(y_test, y_pred)\n",
    "mae = metrics.mean_absolute_error(y_test, y_pred)\n",
    "mse = metrics.mean_squared_error(y_test, y_pred)\n",
    "print(f'R^2: {r2:.4f}')\n",
    "print(f'MAE: {mae:.4f}')\n",
    "print(f'MSE: {mse:.4f}')"
   ]
  },
  {
   "cell_type": "code",
   "execution_count": null,
   "id": "1b862afe",
   "metadata": {},
   "outputs": [],
   "source": [
    "# Plot actual vs predicted\n",
    "plt.figure(figsize=(8,6))\n",
    "plt.scatter(y_test, y_pred, alpha=0.6)\n",
    "minv = min(y_test.min(), y_pred.min())\n",
    "maxv = max(y_test.max(), y_pred.max())\n",
    "plt.plot([minv, maxv], [minv, maxv], color='red', linestyle='--')\n",
    "plt.xlabel('Actual')\n",
    "plt.ylabel('Predicted')\n",
    "plt.title('Actual vs Predicted')\n",
    "plt.show()"
   ]
  },
  {
   "cell_type": "code",
   "execution_count": null,
   "id": "2c199d80",
   "metadata": {},
   "outputs": [],
   "source": [
    "# Save the model\n",
    "model_path = os.path.join(os.getcwd(), 'model.joblib')\n",
    "joblib.dump(model, model_path)\n",
    "print('Saved model to', model_path)"
   ]
  },
  {
   "cell_type": "markdown",
   "id": "3a0eebd3",
   "metadata": {},
   "source": [
    "## Notes and next steps\n",
    "- Install dependencies inside the project's virtual environment: `source .venv/bin/activate` then `pip install -r requirements.txt`.\n",
    "- You can extend the notebook to try multiple features, pipeline preprocessing, or cross-validation.\n",
    "- To run programmatically, see tools such as `nbclient`, `papermill`, or `nbconvert` for execution and testing."
   ]
  }
 ],
 "metadata": {
  "language_info": {
   "name": "python"
  }
 },
 "nbformat": 4,
 "nbformat_minor": 5
}
