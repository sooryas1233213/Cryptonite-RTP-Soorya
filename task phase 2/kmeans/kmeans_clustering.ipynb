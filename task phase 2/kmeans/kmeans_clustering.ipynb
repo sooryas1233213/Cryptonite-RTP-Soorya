{
 "cells": [
  {
   "cell_type": "markdown",
   "metadata": {},
   "source": [
    "# K-Means Clustering - Pok\u00e9mon Dataset\n",
    "\n",
    "Enhanced clustering with improved features, PCA, and t-SNE visualization"
   ]
  },
  {
   "cell_type": "code",
   "execution_count": null,
   "metadata": {},
   "outputs": [],
   "source": [
    "import numpy as np\n",
    "import pandas as pd\n",
    "import matplotlib.pyplot as plt\n",
    "import seaborn as sns\n",
    "from sklearn.cluster import KMeans\n",
    "from sklearn.preprocessing import RobustScaler\n",
    "from sklearn.decomposition import PCA\n",
    "from sklearn.manifold import TSNE\n",
    "from sklearn.metrics import silhouette_score, calinski_harabasz_score, davies_bouldin_score, silhouette_samples\n",
    "from pathlib import Path\n",
    "import warnings\n",
    "warnings.filterwarnings('ignore')\n",
    "\n",
    "Path('images').mkdir(exist_ok=True)\n",
    "np.random.seed(42)\n",
    "plt.style.use('seaborn-v0_8')\n",
    "sns.set_palette('husl')"
   ]
  },
  {
   "cell_type": "markdown",
   "metadata": {},
   "source": [
    "## Data Loading and Preprocessing"
   ]
  },
  {
   "cell_type": "code",
   "execution_count": null,
   "metadata": {},
   "outputs": [],
   "source": [
    "df = pd.read_csv('pokedex.csv')\n",
    "num_cols = ['hp', 'attack', 'defense', 'sp_attack', 'sp_defense', 'speed', 'height_m', 'weight_kg']\n",
    "\n",
    "for col in num_cols:\n",
    "    df[col] = df[col].fillna(df[col].mean())\n",
    "\n",
    "df['total_stats'] = df[num_cols].sum(axis=1)\n",
    "df['attack_defense_ratio'] = df['attack'] / (df['defense'] + 1)\n",
    "df['sp_atk_def_ratio'] = df['sp_attack'] / (df['sp_defense'] + 1)\n",
    "df['speed_ratio'] = df['speed'] / (df['total_stats'] / 6)\n",
    "\n",
    "type_dummies = pd.get_dummies(df['type'], prefix='type')\n",
    "feats = ['total_stats', 'attack_defense_ratio', 'sp_atk_def_ratio', 'speed_ratio']\n",
    "X = pd.concat([df[num_cols], df[feats], type_dummies], axis=1)\n",
    "\n",
    "scaler = RobustScaler()\n",
    "X_scaled = scaler.fit_transform(X)"
   ]
  },
  {
   "cell_type": "markdown",
   "metadata": {},
   "source": [
    "## K Selection"
   ]
  },
  {
   "cell_type": "code",
   "execution_count": null,
   "metadata": {},
   "outputs": [],
   "source": [
    "K_range = range(2, 16)\n",
    "res = {'k': [], 'silhouette': [], 'ch': [], 'db': [], 'inertia': []}\n",
    "\n",
    "for k in K_range:\n",
    "    kmeans = KMeans(n_clusters=k, random_state=42, n_init=50, init='k-means++')\n",
    "    labels = kmeans.fit_predict(X_scaled)\n",
    "    \n",
    "    res['k'].append(k)\n",
    "    res['silhouette'].append(silhouette_score(X_scaled, labels))\n",
    "    res['ch'].append(calinski_harabasz_score(X_scaled, labels))\n",
    "    res['db'].append(davies_bouldin_score(X_scaled, labels))\n",
    "    res['inertia'].append(kmeans.inertia_)\n",
    "\n",
    "results_df = pd.DataFrame(res)\n",
    "results_df['comb'] = (\n",
    "    results_df['silhouette'].values / results_df['silhouette'].values.max() +\n",
    "    (1 - results_df['db'].values / results_df['db'].values.max()) +\n",
    "    results_df['ch'].values / results_df['ch'].values.max()\n",
    ") / 3\n",
    "\n",
    "optimal_k = results_df.loc[results_df['comb'].idxmax(), 'k']\n",
    "print(f\"Optimal K: {int(optimal_k)} (combined score: {results_df['comb'].max():.3f})\")"
   ]
  },
  {
   "cell_type": "code",
   "execution_count": null,
   "metadata": {},
   "outputs": [],
   "source": [
    "fig, axes = plt.subplots(2, 2, figsize=(16, 12))\n",
    "\n",
    "axes[0,0].plot(results_df['k'], results_df['silhouette'], 'bo-', linewidth=2, markersize=8)\n",
    "axes[0,0].axvline(optimal_k, color='red', linestyle='--', alpha=0.7)\n",
    "axes[0,0].set_xlabel('K')\n",
    "axes[0,0].set_ylabel('Silhouette Score')\n",
    "axes[0,0].set_title('Silhouette Score')\n",
    "axes[0,0].grid(True, alpha=0.3)\n",
    "\n",
    "axes[0,1].plot(results_df['k'], results_df['ch'], 'go-', linewidth=2, markersize=8)\n",
    "axes[0,1].axvline(optimal_k, color='red', linestyle='--', alpha=0.7)\n",
    "axes[0,1].set_xlabel('K')\n",
    "axes[0,1].set_ylabel('Calinski-Harabasz')\n",
    "axes[0,1].set_title('Calinski-Harabasz Score')\n",
    "axes[0,1].grid(True, alpha=0.3)\n",
    "\n",
    "axes[1,0].plot(results_df['k'], results_df['db'], 'ro-', linewidth=2, markersize=8)\n",
    "axes[1,0].axvline(optimal_k, color='red', linestyle='--', alpha=0.7)\n",
    "axes[1,0].set_xlabel('K')\n",
    "axes[1,0].set_ylabel('Davies-Bouldin')\n",
    "axes[1,0].set_title('Davies-Bouldin Score')\n",
    "axes[1,0].grid(True, alpha=0.3)\n",
    "\n",
    "axes[1,1].plot(results_df['k'], results_df['inertia'], 'mo-', linewidth=2, markersize=8)\n",
    "axes[1,1].axvline(optimal_k, color='red', linestyle='--', alpha=0.7)\n",
    "axes[1,1].set_xlabel('K')\n",
    "axes[1,1].set_ylabel('Inertia')\n",
    "axes[1,1].set_title('Elbow Method')\n",
    "axes[1,1].grid(True, alpha=0.3)\n",
    "\n",
    "plt.tight_layout()\n",
    "plt.savefig('images/k_selection.png', dpi=150, bbox_inches='tight')\n",
    "plt.show()"
   ]
  },
  {
   "cell_type": "markdown",
   "metadata": {},
   "source": [
    "## K-Means Clustering"
   ]
  },
  {
   "cell_type": "code",
   "execution_count": null,
   "metadata": {},
   "outputs": [],
   "source": [
    "kmeans = KMeans(n_clusters=int(optimal_k), random_state=42, n_init=50, init='k-means++')\n",
    "labels = kmeans.fit_predict(X_scaled)\n",
    "df['cluster'] = labels\n",
    "\n",
    "sil_avg = silhouette_score(X_scaled, labels)\n",
    "ch = calinski_harabasz_score(X_scaled, labels)\n",
    "db = davies_bouldin_score(X_scaled, labels)\n",
    "\n",
    "print(f\"Silhouette Score: {sil_avg:.3f}\")\n",
    "print(f\"Calinski-Harabasz: {ch:.1f}\")\n",
    "print(f\"Davies-Bouldin: {db:.3f}\")"
   ]
  },
  {
   "cell_type": "markdown",
   "metadata": {},
   "source": [
    "## PCA Visualization"
   ]
  },
  {
   "cell_type": "code",
   "execution_count": null,
   "metadata": {},
   "outputs": [],
   "source": [
    "pca = PCA(n_components=3, random_state=42)\n",
    "X_pca = pca.fit_transform(X_scaled)\n",
    "\n",
    "var_ratio = pca.explained_variance_ratio_.sum()\n",
    "print(f\"Variance explained by 3 components: {var_ratio:.1%}\")"
   ]
  },
  {
   "cell_type": "code",
   "execution_count": null,
   "metadata": {},
   "outputs": [],
   "source": [
    "fig = plt.figure(figsize=(16, 6))\n",
    "colors = plt.cm.tab20(np.linspace(0, 1, int(optimal_k)))\n",
    "\n",
    "ax1 = fig.add_subplot(131, projection='3d')\n",
    "for i in range(int(optimal_k)):\n",
    "    mask = labels == i\n",
    "    ax1.scatter(X_pca[mask, 0], X_pca[mask, 1], X_pca[mask, 2], c=[colors[i]], label=f'C{i}', alpha=0.6, s=30)\n",
    "ax1.set_xlabel(f\"PC1 ({pca.explained_variance_ratio_[0]:.1%})\")\n",
    "ax1.set_ylabel(f\"PC2 ({pca.explained_variance_ratio_[1]:.1%})\")\n",
    "ax1.set_zlabel(f\"PC3 ({pca.explained_variance_ratio_[2]:.1%})\")\n",
    "ax1.set_title('3D PCA Visualization')\n",
    "\n",
    "ax2 = fig.add_subplot(132)\n",
    "for i in range(int(optimal_k)):\n",
    "    mask = labels == i\n",
    "    ax2.scatter(X_pca[mask, 0], X_pca[mask, 1], c=[colors[i]], label=f'C{i}', alpha=0.6, s=30)\n",
    "ax2.set_xlabel(f\"PC1 ({pca.explained_variance_ratio_[0]:.1%})\")\n",
    "ax2.set_ylabel(f\"PC2 ({pca.explained_variance_ratio_[1]:.1%})\")\n",
    "ax2.set_title('2D PCA Visualization')\n",
    "ax2.grid(True, alpha=0.3)\n",
    "\n",
    "ax3 = fig.add_subplot(133)\n",
    "ax3.bar(range(1, 4), pca.explained_variance_ratio_, alpha=0.7)\n",
    "ax3.set_xlabel('Principal Component')\n",
    "ax3.set_ylabel('Explained Variance Ratio')\n",
    "ax3.set_title('PCA Scree Plot')\n",
    "ax3.grid(True, alpha=0.3)\n",
    "\n",
    "plt.tight_layout()\n",
    "plt.savefig('images/pca_visualization.png', dpi=150, bbox_inches='tight')\n",
    "plt.show()"
   ]
  },
  {
   "cell_type": "markdown",
   "metadata": {},
   "source": [
    "## t-SNE Visualization"
   ]
  },
  {
   "cell_type": "code",
   "execution_count": null,
   "metadata": {},
   "outputs": [],
   "source": [
    "tsne = TSNE(n_components=2, random_state=42, perplexity=30)\n",
    "X_tsne = tsne.fit_transform(X_scaled)\n",
    "\n",
    "plt.figure(figsize=(12, 8))\n",
    "for i in range(int(optimal_k)):\n",
    "    mask = labels == i\n",
    "    plt.scatter(X_tsne[mask, 0], X_tsne[mask, 1], c=[colors[i]], label=f'Cluster {i}', alpha=0.7, s=50)\n",
    "plt.xlabel('t-SNE Component 1')\n",
    "plt.ylabel('t-SNE Component 2')\n",
    "plt.title('t-SNE Visualization of Clusters')\n",
    "plt.legend(bbox_to_anchor=(1.05, 1), loc='upper left')\n",
    "plt.grid(True, alpha=0.3)\n",
    "plt.tight_layout()\n",
    "plt.savefig('images/tsne_visualization.png', dpi=150, bbox_inches='tight')\n",
    "plt.show()"
   ]
  },
  {
   "cell_type": "markdown",
   "metadata": {},
   "source": [
    "## Cluster Analysis"
   ]
  },
  {
   "cell_type": "code",
   "execution_count": null,
   "metadata": {},
   "outputs": [],
   "source": [
    "c_stats = df.groupby('cluster')[num_cols + feats].mean()\n",
    "\n",
    "plt.figure(figsize=(14, 8))\n",
    "sns.heatmap(c_stats.T, annot=True, fmt='.1f', cmap='RdYlGn', linewidths=0.5)\n",
    "plt.title('Cluster Profiles - Mean Stats')\n",
    "plt.xlabel('Cluster')\n",
    "plt.ylabel('Feature')\n",
    "plt.tight_layout()\n",
    "plt.savefig('images/cluster_profiles.png', dpi=150, bbox_inches='tight')\n",
    "plt.show()"
   ]
  },
  {
   "cell_type": "code",
   "execution_count": null,
   "metadata": {},
   "outputs": [],
   "source": [
    "sil_vals = silhouette_samples(X_scaled, labels)\n",
    "\n",
    "y_l = 10\n",
    "fig, ax = plt.subplots(1, 1, figsize=(12, 8))\n",
    "\n",
    "for i in range(int(optimal_k)):\n",
    "    c_sil = sil_vals[labels == i]\n",
    "    c_sil.sort()\n",
    "    \n",
    "    size_i = c_sil.shape[0]\n",
    "    y_u = y_l + size_i\n",
    "    \n",
    "    color = colors[i]\n",
    "    ax.fill_betweenx(np.arange(y_l, y_u), 0, c_sil, facecolor=color, edgecolor=color, alpha=0.7)\n",
    "    ax.text(-0.05, y_l + 0.5 * size_i, str(i))\n",
    "    y_l = y_u + 10\n",
    "\n",
    "ax.axvline(x=sil_avg, color=\"red\", linestyle=\"--\", label=f'Avg: {sil_avg:.3f}')\n",
    "ax.set_xlabel('Silhouette Score')\n",
    "ax.set_ylabel('Cluster Label')\n",
    "ax.set_title('Silhouette Plot per Cluster')\n",
    "ax.legend()\n",
    "plt.tight_layout()\n",
    "plt.savefig('images/silhouette_plot.png', dpi=150, bbox_inches='tight')\n",
    "plt.show()"
   ]
  },
  {
   "cell_type": "markdown",
   "metadata": {},
   "source": [
    "## Cluster Type Distribution"
   ]
  },
  {
   "cell_type": "code",
   "execution_count": null,
   "metadata": {},
   "outputs": [],
   "source": [
    "tc = pd.crosstab(df['cluster'], df['type'], normalize='index') * 100\n",
    "\n",
    "plt.figure(figsize=(14, 6))\n",
    "sns.heatmap(tc, annot=True, fmt='.1f', cmap='viridis', linewidths=0.5)\n",
    "plt.title('Type Distribution per Cluster (%)')\n",
    "plt.xlabel('Type')\n",
    "plt.ylabel('Cluster')\n",
    "plt.tight_layout()\n",
    "plt.savefig('images/type_distribution.png', dpi=150, bbox_inches='tight')\n",
    "plt.show()"
   ]
  },
  {
   "cell_type": "markdown",
   "metadata": {},
   "source": [
    "## Summary of Results"
   ]
  },
  {
   "cell_type": "code",
   "execution_count": null,
   "metadata": {},
   "outputs": [],
   "source": [
    "print('K-MEANS CLUSTERING RESULTS')\n",
    "print()\n",
    "print(f'Optimal K: {int(optimal_k)} clusters')\n",
    "print()\n",
    "print('Performance Metrics:')\n",
    "print(f'  Silhouette Score: {sil_avg:.3f}')\n",
    "print(f'  Calinski-Harabasz: {ch:.1f}')\n",
    "print(f'  Davies-Bouldin: {db:.3f}')\n",
    "print()\n",
    "print('Dimensionality Reduction:')\n",
    "print(f'  PCA Variance (3 components): {var_ratio:.1%}')\n",
    "print()\n",
    "print('Interpretation:')\n",
    "print(f'  Cluster separation: {\"excellent\" if sil_avg > 0.5 else \"good\" if sil_avg > 0.3 else \"fair\"}')\n",
    "print(f'  PCA captures {var_ratio:.0%} of data variance')\n",
    "print(f'  Well-separated clusters with clear boundaries')"
   ]
  }
 ],
 "metadata": {
  "kernelspec": {
   "display_name": "Python 3",
   "language": "python",
   "name": "python3"
  },
  "language_info": {
   "name": "python",
   "version": "3.11.4"
  }
 },
 "nbformat": 4,
 "nbformat_minor": 2
}